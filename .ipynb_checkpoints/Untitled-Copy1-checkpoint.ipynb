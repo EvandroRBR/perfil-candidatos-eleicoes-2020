{
 "cells": [
  {
   "cell_type": "markdown",
   "metadata": {},
   "source": [
    "# Perfil dos Candidatos às Eleições 2020"
   ]
  },
  {
   "cell_type": "markdown",
   "metadata": {},
   "source": [
    "### Importação das bibliotecas necessárias"
   ]
  },
  {
   "cell_type": "code",
   "execution_count": 38,
   "metadata": {},
   "outputs": [],
   "source": [
    "import pandas as pd \n",
    "import numpy as np\n",
    "import seaborn as sns\n",
    "import matplotlib.pyplot as plt\n",
    "import matplotlib as mpl"
   ]
  },
  {
   "cell_type": "code",
   "execution_count": 125,
   "metadata": {
    "scrolled": true
   },
   "outputs": [],
   "source": [
    "data = pd.read_csv('/home/raque/consulta_cand_2020_SP.csv', sep=';', encoding='ISO-8859-1', usecols=['DS_CARGO', 'CD_GENERO', 'DS_GENERO', 'CD_GRAU_INSTRUCAO', 'DS_GRAU_INSTRUCAO'])"
   ]
  },
  {
   "cell_type": "code",
   "execution_count": 126,
   "metadata": {},
   "outputs": [],
   "source": [
    "female_candidates = []\n",
    "male_candidates = []"
   ]
  },
  {
   "cell_type": "code",
   "execution_count": 120,
   "metadata": {},
   "outputs": [
    {
     "data": {
      "text/html": [
       "<div>\n",
       "<style scoped>\n",
       "    .dataframe tbody tr th:only-of-type {\n",
       "        vertical-align: middle;\n",
       "    }\n",
       "\n",
       "    .dataframe tbody tr th {\n",
       "        vertical-align: top;\n",
       "    }\n",
       "\n",
       "    .dataframe thead th {\n",
       "        text-align: right;\n",
       "    }\n",
       "</style>\n",
       "<table border=\"1\" class=\"dataframe\">\n",
       "  <thead>\n",
       "    <tr style=\"text-align: right;\">\n",
       "      <th></th>\n",
       "      <th>CD_GENERO</th>\n",
       "      <th>DS_GENERO</th>\n",
       "      <th>CD_GRAU_INSTRUCAO</th>\n",
       "      <th>DS_GRAU_INSTRUCAO</th>\n",
       "    </tr>\n",
       "  </thead>\n",
       "  <tbody>\n",
       "    <tr>\n",
       "      <th>0</th>\n",
       "      <td>2</td>\n",
       "      <td>MASCULINO</td>\n",
       "      <td>8</td>\n",
       "      <td>SUPERIOR COMPLETO</td>\n",
       "    </tr>\n",
       "    <tr>\n",
       "      <th>1</th>\n",
       "      <td>2</td>\n",
       "      <td>MASCULINO</td>\n",
       "      <td>6</td>\n",
       "      <td>ENSINO MÉDIO COMPLETO</td>\n",
       "    </tr>\n",
       "    <tr>\n",
       "      <th>2</th>\n",
       "      <td>4</td>\n",
       "      <td>FEMININO</td>\n",
       "      <td>4</td>\n",
       "      <td>ENSINO FUNDAMENTAL COMPLETO</td>\n",
       "    </tr>\n",
       "    <tr>\n",
       "      <th>3</th>\n",
       "      <td>2</td>\n",
       "      <td>MASCULINO</td>\n",
       "      <td>6</td>\n",
       "      <td>ENSINO MÉDIO COMPLETO</td>\n",
       "    </tr>\n",
       "    <tr>\n",
       "      <th>4</th>\n",
       "      <td>4</td>\n",
       "      <td>FEMININO</td>\n",
       "      <td>8</td>\n",
       "      <td>SUPERIOR COMPLETO</td>\n",
       "    </tr>\n",
       "  </tbody>\n",
       "</table>\n",
       "</div>"
      ],
      "text/plain": [
       "   CD_GENERO  DS_GENERO  CD_GRAU_INSTRUCAO            DS_GRAU_INSTRUCAO\n",
       "0          2  MASCULINO                  8            SUPERIOR COMPLETO\n",
       "1          2  MASCULINO                  6        ENSINO MÉDIO COMPLETO\n",
       "2          4   FEMININO                  4  ENSINO FUNDAMENTAL COMPLETO\n",
       "3          2  MASCULINO                  6        ENSINO MÉDIO COMPLETO\n",
       "4          4   FEMININO                  8            SUPERIOR COMPLETO"
      ]
     },
     "execution_count": 120,
     "metadata": {},
     "output_type": "execute_result"
    }
   ],
   "source": [
    "data.head()"
   ]
  },
  {
   "cell_type": "code",
   "execution_count": 127,
   "metadata": {},
   "outputs": [],
   "source": [
    "required_data = data.filter(items=required_columns)"
   ]
  },
  {
   "cell_type": "code",
   "execution_count": 128,
   "metadata": {},
   "outputs": [
    {
     "name": "stdout",
     "output_type": "stream",
     "text": [
      "Temos o total de 31460 candidatas mulheres.\n"
     ]
    }
   ],
   "source": [
    "female_candidates.append(data.query('(CD_GENERO == 4)')['CD_GENERO'].count())\n",
    "print(f'Temos o total de {female_candidates[0]} candidatas mulheres.')"
   ]
  },
  {
   "cell_type": "code",
   "execution_count": 136,
   "metadata": {},
   "outputs": [
    {
     "name": "stdout",
     "output_type": "stream",
     "text": [
      "Temos o total de 62307 candidatos homens.\n"
     ]
    }
   ],
   "source": [
    "male_candidates.append(data.query('(CD_GENERO == 2)')['CD_GENERO'].count())\n",
    "print(f'Temos o total de {male_candidates[0]} candidatos homens.')"
   ]
  },
  {
   "cell_type": "code",
   "execution_count": 157,
   "metadata": {},
   "outputs": [
    {
     "name": "stdout",
     "output_type": "stream",
     "text": [
      "93767\n"
     ]
    },
    {
     "ename": "TypeError",
     "evalue": "dot() missing 1 required positional argument: 'b'",
     "output_type": "error",
     "traceback": [
      "\u001b[0;31m---------------------------------------------------------------------------\u001b[0m",
      "\u001b[0;31mTypeError\u001b[0m                                 Traceback (most recent call last)",
      "\u001b[0;32m<ipython-input-157-acafd7b122e7>\u001b[0m in \u001b[0;36m<module>\u001b[0;34m\u001b[0m\n\u001b[1;32m      2\u001b[0m \u001b[0mprint\u001b[0m\u001b[0;34m(\u001b[0m\u001b[0mtotal_candidates\u001b[0m\u001b[0;34m[\u001b[0m\u001b[0;36m0\u001b[0m\u001b[0;34m]\u001b[0m\u001b[0;34m)\u001b[0m\u001b[0;34m\u001b[0m\u001b[0;34m\u001b[0m\u001b[0m\n\u001b[1;32m      3\u001b[0m \u001b[0;34m\u001b[0m\u001b[0m\n\u001b[0;32m----> 4\u001b[0;31m \u001b[0mpercentage_women\u001b[0m \u001b[0;34m=\u001b[0m \u001b[0;34m(\u001b[0m\u001b[0mnp\u001b[0m\u001b[0;34m.\u001b[0m\u001b[0mdot\u001b[0m\u001b[0;34m(\u001b[0m\u001b[0mnp\u001b[0m\u001b[0;34m.\u001b[0m\u001b[0mones\u001b[0m\u001b[0;34m(\u001b[0m\u001b[0mfemale_candidates\u001b[0m\u001b[0;34m)\u001b[0m \u001b[0;34m*\u001b[0m \u001b[0;36m100\u001b[0m\u001b[0;34m)\u001b[0m \u001b[0;34m/\u001b[0m \u001b[0mnp\u001b[0m\u001b[0;34m.\u001b[0m\u001b[0mdot\u001b[0m\u001b[0;34m(\u001b[0m\u001b[0mnp\u001b[0m\u001b[0;34m.\u001b[0m\u001b[0mones\u001b[0m\u001b[0;34m(\u001b[0m\u001b[0mtotal_candidates\u001b[0m\u001b[0;34m)\u001b[0m\u001b[0;34m)\u001b[0m\u001b[0;34m)\u001b[0m\u001b[0;34m\u001b[0m\u001b[0;34m\u001b[0m\u001b[0m\n\u001b[0m",
      "\u001b[0;32m<__array_function__ internals>\u001b[0m in \u001b[0;36mdot\u001b[0;34m(*args, **kwargs)\u001b[0m\n",
      "\u001b[0;31mTypeError\u001b[0m: dot() missing 1 required positional argument: 'b'"
     ]
    }
   ],
   "source": [
    "total_candidates = np.array(female_candidates) + np.array(male_candidates)\n",
    "print(total_candidates[0])\n",
    "\n",
    "\n",
    "suic_sex = df[{total_candidates}].groupby(df['sexo']).agg({'suicidios' : 'sum'}).assign(porcentagem = lambda x: 100 * x/x.sum())\n",
    "suic_sex = np.round(suic_sex, decimals=0)\n",
    "suic_sex = suic_sex.reset_index().sort_values(by='suicidios',ascending=False)\n",
    "most_sex = suic_sex\n",
    "print(\"Total de Suicidios por Gênero entre 1985 - 2016\")\n",
    "print()\n",
    "print(most_sex)\n",
    "fig = plt.figure(figsize=(6,4))\n",
    "plt.title('Suicídios por Sexo')\n",
    "sns.set(font_scale=0.9)\n",
    "sns.barplot(y='suicidios',x='sexo',data=most_sex,palette=\"PuBu\");\n",
    "plt.ylabel('Número de Suicídios')\n",
    "plt.tight_layout()"
   ]
  },
  {
   "cell_type": "code",
   "execution_count": null,
   "metadata": {},
   "outputs": [],
   "source": []
  },
  {
   "cell_type": "code",
   "execution_count": null,
   "metadata": {},
   "outputs": [],
   "source": []
  }
 ],
 "metadata": {
  "kernelspec": {
   "display_name": "Python 3",
   "language": "python",
   "name": "python3"
  },
  "language_info": {
   "codemirror_mode": {
    "name": "ipython",
    "version": 3
   },
   "file_extension": ".py",
   "mimetype": "text/x-python",
   "name": "python",
   "nbconvert_exporter": "python",
   "pygments_lexer": "ipython3",
   "version": "3.6.9"
  }
 },
 "nbformat": 4,
 "nbformat_minor": 4
}
